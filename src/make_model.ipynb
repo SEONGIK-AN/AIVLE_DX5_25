{
 "cells": [
  {
   "cell_type": "code",
   "execution_count": 8,
   "metadata": {},
   "outputs": [],
   "source": [
    "import numpy as np\n",
    "import pandas as pd\n",
    "import joblib\n",
    "from sklearn.ensemble import RandomForestRegressor\n",
    "from sklearn.model_selection import train_test_split, GridSearchCV\n",
    "path = './model_data'"
   ]
  },
  {
   "cell_type": "code",
   "execution_count": 2,
   "metadata": {},
   "outputs": [],
   "source": [
    "columns = ['일자','월', '어종', '개체수', '표층수온', '표층염분', '조업_위도', '조업_경도', '생태구']\n",
    "대한해협 = pd.read_csv(f'{path}/대한해협_어업.csv')[columns].rename({'조업_위도':'위도', '조업_경도':'경도'}, axis=1)\n",
    "동해 = pd.read_csv(f'{path}/동해_어업.csv')[columns].rename({'조업_위도':'위도', '조업_경도':'경도'}, axis=1)\n",
    "서남해역 = pd.read_csv(f'{path}/서남해역_어업.csv')[columns].rename({'조업_위도':'위도', '조업_경도':'경도'}, axis=1)\n",
    "서해중부 = pd.read_csv(f'{path}/서해중부_어업.csv')[columns].rename({'조업_위도':'위도', '조업_경도':'경도'}, axis=1)\n",
    "제주 = pd.read_csv(f'{path}/제주_어업.csv')[columns].rename({'조업_위도':'위도', '조업_경도':'경도'}, axis=1)"
   ]
  },
  {
   "cell_type": "code",
   "execution_count": 3,
   "metadata": {},
   "outputs": [],
   "source": [
    "data = pd.concat([대한해협, 동해, 서남해역, 서해중부, 제주], axis=0).sort_values('일자').reset_index(drop=True)"
   ]
  },
  {
   "cell_type": "code",
   "execution_count": 4,
   "metadata": {},
   "outputs": [
    {
     "data": {
      "text/html": [
       "<div>\n",
       "<style scoped>\n",
       "    .dataframe tbody tr th:only-of-type {\n",
       "        vertical-align: middle;\n",
       "    }\n",
       "\n",
       "    .dataframe tbody tr th {\n",
       "        vertical-align: top;\n",
       "    }\n",
       "\n",
       "    .dataframe thead th {\n",
       "        text-align: right;\n",
       "    }\n",
       "</style>\n",
       "<table border=\"1\" class=\"dataframe\">\n",
       "  <thead>\n",
       "    <tr style=\"text-align: right;\">\n",
       "      <th></th>\n",
       "      <th>일자</th>\n",
       "      <th>월</th>\n",
       "      <th>어종</th>\n",
       "      <th>개체수</th>\n",
       "      <th>표층수온</th>\n",
       "      <th>표층염분</th>\n",
       "      <th>위도</th>\n",
       "      <th>경도</th>\n",
       "      <th>생태구</th>\n",
       "    </tr>\n",
       "  </thead>\n",
       "  <tbody>\n",
       "    <tr>\n",
       "      <th>0</th>\n",
       "      <td>2019-11-10-09:21:00</td>\n",
       "      <td>11</td>\n",
       "      <td>문어</td>\n",
       "      <td>2</td>\n",
       "      <td>18.0586</td>\n",
       "      <td>33.2332</td>\n",
       "      <td>34.281879</td>\n",
       "      <td>126.68805</td>\n",
       "      <td>동해</td>\n",
       "    </tr>\n",
       "    <tr>\n",
       "      <th>1</th>\n",
       "      <td>2019-11-10-09:21:00</td>\n",
       "      <td>11</td>\n",
       "      <td>장어</td>\n",
       "      <td>2</td>\n",
       "      <td>18.0586</td>\n",
       "      <td>33.2332</td>\n",
       "      <td>34.281879</td>\n",
       "      <td>126.68805</td>\n",
       "      <td>동해</td>\n",
       "    </tr>\n",
       "    <tr>\n",
       "      <th>2</th>\n",
       "      <td>2019-11-10-09:21:00</td>\n",
       "      <td>11</td>\n",
       "      <td>돌게</td>\n",
       "      <td>2</td>\n",
       "      <td>18.0586</td>\n",
       "      <td>33.2332</td>\n",
       "      <td>34.281879</td>\n",
       "      <td>126.68805</td>\n",
       "      <td>동해</td>\n",
       "    </tr>\n",
       "    <tr>\n",
       "      <th>3</th>\n",
       "      <td>2019-11-10-09:21:00</td>\n",
       "      <td>11</td>\n",
       "      <td>문어</td>\n",
       "      <td>2</td>\n",
       "      <td>18.0586</td>\n",
       "      <td>33.2332</td>\n",
       "      <td>34.281879</td>\n",
       "      <td>126.68805</td>\n",
       "      <td>동해</td>\n",
       "    </tr>\n",
       "    <tr>\n",
       "      <th>4</th>\n",
       "      <td>2019-11-10-09:21:00</td>\n",
       "      <td>11</td>\n",
       "      <td>장어</td>\n",
       "      <td>2</td>\n",
       "      <td>18.0586</td>\n",
       "      <td>33.2332</td>\n",
       "      <td>34.281879</td>\n",
       "      <td>126.68805</td>\n",
       "      <td>동해</td>\n",
       "    </tr>\n",
       "  </tbody>\n",
       "</table>\n",
       "</div>"
      ],
      "text/plain": [
       "                    일자   월  어종  개체수     표층수온     표층염분         위도         경도  \\\n",
       "0  2019-11-10-09:21:00  11  문어    2  18.0586  33.2332  34.281879  126.68805   \n",
       "1  2019-11-10-09:21:00  11  장어    2  18.0586  33.2332  34.281879  126.68805   \n",
       "2  2019-11-10-09:21:00  11  돌게    2  18.0586  33.2332  34.281879  126.68805   \n",
       "3  2019-11-10-09:21:00  11  문어    2  18.0586  33.2332  34.281879  126.68805   \n",
       "4  2019-11-10-09:21:00  11  장어    2  18.0586  33.2332  34.281879  126.68805   \n",
       "\n",
       "  생태구  \n",
       "0  동해  \n",
       "1  동해  \n",
       "2  동해  \n",
       "3  동해  \n",
       "4  동해  "
      ]
     },
     "execution_count": 4,
     "metadata": {},
     "output_type": "execute_result"
    }
   ],
   "source": [
    "data.head()"
   ]
  },
  {
   "cell_type": "code",
   "execution_count": 18,
   "metadata": {},
   "outputs": [],
   "source": [
    "models = dict()\n",
    "params = {'n_estimators':range(40, 101), 'max_depth':range(3, 16)}\n",
    "\n",
    "for fish in data['어종'].unique():\n",
    "    temp = data[data['어종']==fish]\n",
    "    X = temp[['위도', '경도', '표층수온','표층염분', '월']]\n",
    "    y = temp['개체수']\n",
    "    cv = GridSearchCV(\n",
    "        estimator=RandomForestRegressor(),\n",
    "        param_grid=params,\n",
    "        scoring='r2',\n",
    "        n_jobs=-1,\n",
    "        cv=3,\n",
    "    ).fit(X, y)\n",
    "    models[fish]=cv.best_estimator_"
   ]
  },
  {
   "cell_type": "code",
   "execution_count": 19,
   "metadata": {},
   "outputs": [
    {
     "data": {
      "text/plain": [
       "['./model_data/models.pkl']"
      ]
     },
     "execution_count": 19,
     "metadata": {},
     "output_type": "execute_result"
    }
   ],
   "source": [
    "joblib.dump(models, f'{path}/models.pkl')"
   ]
  },
  {
   "cell_type": "code",
   "execution_count": 20,
   "metadata": {},
   "outputs": [],
   "source": [
    "tmp = joblib.load(f'{path}/models.pkl')"
   ]
  },
  {
   "cell_type": "code",
   "execution_count": 38,
   "metadata": {},
   "outputs": [
    {
     "data": {
      "text/html": [
       "<div>\n",
       "<style scoped>\n",
       "    .dataframe tbody tr th:only-of-type {\n",
       "        vertical-align: middle;\n",
       "    }\n",
       "\n",
       "    .dataframe tbody tr th {\n",
       "        vertical-align: top;\n",
       "    }\n",
       "\n",
       "    .dataframe thead th {\n",
       "        text-align: right;\n",
       "    }\n",
       "</style>\n",
       "<table border=\"1\" class=\"dataframe\">\n",
       "  <thead>\n",
       "    <tr style=\"text-align: right;\">\n",
       "      <th></th>\n",
       "      <th>위도</th>\n",
       "      <th>경도</th>\n",
       "      <th>표층수온</th>\n",
       "      <th>표층염분</th>\n",
       "      <th>월</th>\n",
       "    </tr>\n",
       "  </thead>\n",
       "  <tbody>\n",
       "    <tr>\n",
       "      <th>183381</th>\n",
       "      <td>34.588466</td>\n",
       "      <td>127.652774</td>\n",
       "      <td>6.1113</td>\n",
       "      <td>32.6829</td>\n",
       "      <td>3</td>\n",
       "    </tr>\n",
       "    <tr>\n",
       "      <th>183400</th>\n",
       "      <td>34.588466</td>\n",
       "      <td>127.652774</td>\n",
       "      <td>6.5069</td>\n",
       "      <td>33.3011</td>\n",
       "      <td>3</td>\n",
       "    </tr>\n",
       "    <tr>\n",
       "      <th>183447</th>\n",
       "      <td>34.588466</td>\n",
       "      <td>127.652774</td>\n",
       "      <td>3.8469</td>\n",
       "      <td>31.5661</td>\n",
       "      <td>3</td>\n",
       "    </tr>\n",
       "    <tr>\n",
       "      <th>183507</th>\n",
       "      <td>34.588466</td>\n",
       "      <td>127.652774</td>\n",
       "      <td>3.8469</td>\n",
       "      <td>31.5661</td>\n",
       "      <td>3</td>\n",
       "    </tr>\n",
       "    <tr>\n",
       "      <th>183641</th>\n",
       "      <td>34.588466</td>\n",
       "      <td>127.652774</td>\n",
       "      <td>3.3848</td>\n",
       "      <td>31.5926</td>\n",
       "      <td>3</td>\n",
       "    </tr>\n",
       "    <tr>\n",
       "      <th>...</th>\n",
       "      <td>...</td>\n",
       "      <td>...</td>\n",
       "      <td>...</td>\n",
       "      <td>...</td>\n",
       "      <td>...</td>\n",
       "    </tr>\n",
       "    <tr>\n",
       "      <th>237614</th>\n",
       "      <td>34.588466</td>\n",
       "      <td>127.652774</td>\n",
       "      <td>16.0271</td>\n",
       "      <td>31.1441</td>\n",
       "      <td>5</td>\n",
       "    </tr>\n",
       "    <tr>\n",
       "      <th>237790</th>\n",
       "      <td>34.588466</td>\n",
       "      <td>127.652774</td>\n",
       "      <td>16.1939</td>\n",
       "      <td>31.0808</td>\n",
       "      <td>5</td>\n",
       "    </tr>\n",
       "    <tr>\n",
       "      <th>238078</th>\n",
       "      <td>34.588466</td>\n",
       "      <td>127.652774</td>\n",
       "      <td>17.9460</td>\n",
       "      <td>32.6235</td>\n",
       "      <td>5</td>\n",
       "    </tr>\n",
       "    <tr>\n",
       "      <th>238238</th>\n",
       "      <td>34.588466</td>\n",
       "      <td>127.652774</td>\n",
       "      <td>17.1962</td>\n",
       "      <td>28.7772</td>\n",
       "      <td>5</td>\n",
       "    </tr>\n",
       "    <tr>\n",
       "      <th>238360</th>\n",
       "      <td>34.588466</td>\n",
       "      <td>127.652774</td>\n",
       "      <td>17.3187</td>\n",
       "      <td>28.0985</td>\n",
       "      <td>5</td>\n",
       "    </tr>\n",
       "  </tbody>\n",
       "</table>\n",
       "<p>341 rows × 5 columns</p>\n",
       "</div>"
      ],
      "text/plain": [
       "               위도          경도     표층수온     표층염분  월\n",
       "183381  34.588466  127.652774   6.1113  32.6829  3\n",
       "183400  34.588466  127.652774   6.5069  33.3011  3\n",
       "183447  34.588466  127.652774   3.8469  31.5661  3\n",
       "183507  34.588466  127.652774   3.8469  31.5661  3\n",
       "183641  34.588466  127.652774   3.3848  31.5926  3\n",
       "...           ...         ...      ...      ... ..\n",
       "237614  34.588466  127.652774  16.0271  31.1441  5\n",
       "237790  34.588466  127.652774  16.1939  31.0808  5\n",
       "238078  34.588466  127.652774  17.9460  32.6235  5\n",
       "238238  34.588466  127.652774  17.1962  28.7772  5\n",
       "238360  34.588466  127.652774  17.3187  28.0985  5\n",
       "\n",
       "[341 rows x 5 columns]"
      ]
     },
     "execution_count": 38,
     "metadata": {},
     "output_type": "execute_result"
    }
   ],
   "source": [
    "X"
   ]
  },
  {
   "cell_type": "code",
   "execution_count": 40,
   "metadata": {},
   "outputs": [
    {
     "data": {
      "text/plain": [
       "array([ 34.58846616, 127.65277427,   6.1113    ,  32.6829    ,\n",
       "         3.        ])"
      ]
     },
     "execution_count": 40,
     "metadata": {},
     "output_type": "execute_result"
    }
   ],
   "source": [
    "X.iloc[0].values"
   ]
  },
  {
   "cell_type": "code",
   "execution_count": 45,
   "metadata": {},
   "outputs": [
    {
     "name": "stderr",
     "output_type": "stream",
     "text": [
      "c:\\Users\\anseo\\anaconda3\\Lib\\site-packages\\sklearn\\base.py:493: UserWarning: X does not have valid feature names, but RandomForestRegressor was fitted with feature names\n",
      "  warnings.warn(\n"
     ]
    },
    {
     "data": {
      "text/plain": [
       "array([99.70631155])"
      ]
     },
     "execution_count": 45,
     "metadata": {},
     "output_type": "execute_result"
    }
   ],
   "source": [
    "tmp['갈치'].predict([X.iloc[0].values])"
   ]
  }
 ],
 "metadata": {
  "kernelspec": {
   "display_name": ".venv",
   "language": "python",
   "name": "python3"
  },
  "language_info": {
   "codemirror_mode": {
    "name": "ipython",
    "version": 3
   },
   "file_extension": ".py",
   "mimetype": "text/x-python",
   "name": "python",
   "nbconvert_exporter": "python",
   "pygments_lexer": "ipython3",
   "version": "3.11.9"
  }
 },
 "nbformat": 4,
 "nbformat_minor": 2
}
